{
 "cells": [
  {
   "cell_type": "markdown",
   "metadata": {},
   "source": [
    "# MolSSI Workshop - Python Data and Scripting\n",
    "\n"
   ]
  },
  {
   "cell_type": "markdown",
   "metadata": {},
   "source": [
    "## Introduction\n",
    "\n",
    "This lesson covers Python basics like variable creation and assignment using the Jupyter notebook."
   ]
  },
  {
   "cell_type": "code",
   "execution_count": null,
   "metadata": {},
   "outputs": [],
   "source": [
    "# A Python interpreter can behave like a calculator\n",
    "3 + 7"
   ]
  },
  {
   "cell_type": "code",
   "execution_count": null,
   "metadata": {},
   "outputs": [],
   "source": [
    "# Assigning variables & doing calculations\n",
    "deltaH = -541.5   #kJ/mole\n",
    "deltaS =  10.4     #kJ/(mole K)\n",
    "temp = 298      #Kelvin\n",
    "deltaG = deltaH - temp*deltaS"
   ]
  },
  {
   "cell_type": "code",
   "execution_count": null,
   "metadata": {},
   "outputs": [],
   "source": [
    "print(deltaG)"
   ]
  },
  {
   "cell_type": "code",
   "execution_count": null,
   "metadata": {},
   "outputs": [],
   "source": [
    "# variables are immutable\n",
    "print(deltaG)\n",
    "deltaG*1000\n",
    "print(deltaG)"
   ]
  },
  {
   "cell_type": "code",
   "execution_count": null,
   "metadata": {},
   "outputs": [],
   "source": [
    "# If we want to change the value of a variable, we have to overwrite it.\n",
    "print(deltaG)\n",
    "deltaG = deltaG*1000\n",
    "print(deltaG)"
   ]
  },
  {
   "cell_type": "code",
   "execution_count": null,
   "metadata": {},
   "outputs": [],
   "source": [
    "# It is usually a better idea to make a new variable\n",
    "print(deltaG)\n",
    "deltaG_joules = deltaG*1000\n",
    "print(deltaG)\n",
    "print(deltaG_joules)"
   ]
  },
  {
   "cell_type": "code",
   "execution_count": null,
   "metadata": {},
   "outputs": [],
   "source": [
    "# You can assign multiple variables at once\n",
    "deltaH, deltaS, temp = -541.5, 10.4, 298\n",
    "deltaG = deltaH - temp*deltaS\n",
    "print(deltaG)"
   ]
  },
  {
   "cell_type": "code",
   "execution_count": null,
   "metadata": {},
   "outputs": [],
   "source": [
    "# Data types\n",
    "type(deltaG)"
   ]
  },
  {
   "cell_type": "code",
   "execution_count": null,
   "metadata": {},
   "outputs": [],
   "source": [
    "# You can change the data type of a variable.\n",
    "deltaG_string = str(deltaG)\n",
    "type(deltaG_string)"
   ]
  },
  {
   "cell_type": "code",
   "execution_count": null,
   "metadata": {},
   "outputs": [],
   "source": [
    "print(deltaG_string)"
   ]
  },
  {
   "cell_type": "code",
   "execution_count": null,
   "metadata": {},
   "outputs": [],
   "source": [
    "# Lists can be used to group several values or variables together.\n",
    "\n",
    "# This is a list\n",
    "energy_kcal = [-13.4, -2.7, 5.4, 42.1]\n",
    "# I can determine its length\n",
    "energy_length = len(energy_kcal)\n",
    "\n",
    "# print the list length\n",
    "print('The length of this list is', energy_length)"
   ]
  },
  {
   "cell_type": "code",
   "execution_count": null,
   "metadata": {},
   "outputs": [],
   "source": [
    "# We can access specific elements of a list using integers\n",
    "# Counting starts at 0\n",
    "\n",
    "# Print the first element of the list\n",
    "print(energy_kcal[0])"
   ]
  },
  {
   "cell_type": "code",
   "execution_count": null,
   "metadata": {},
   "outputs": [],
   "source": [
    "# You can use an element of a list as a variable in a calculation\n",
    "\n",
    "# Calculate the second list element in kilojoules.\n",
    "energy_kilojoules = energy_kcal[1]*4.184\n",
    "print(energy_kilojoules)\n",
    "\n",
    "# Note that this does not change the list\n",
    "print(energy_kcal)"
   ]
  },
  {
   "cell_type": "code",
   "execution_count": null,
   "metadata": {},
   "outputs": [],
   "source": [
    "# Slicing a list\n",
    "\n",
    "# Make a new list from elements 0 to 2. Note that it starts with the first\n",
    "# number, but does not include the last number\n",
    "short_list = energy_kcal[0:2]"
   ]
  },
  {
   "cell_type": "code",
   "execution_count": null,
   "metadata": {},
   "outputs": [],
   "source": [
    "print(short_list)"
   ]
  },
  {
   "cell_type": "code",
   "execution_count": null,
   "metadata": {},
   "outputs": [],
   "source": [
    "# Check your understanding exercise\n",
    "slice1 = energy_kcal[1:]\n",
    "slice2 = energy_kcal[:3]\n",
    "print('slice1 is', slice1)\n",
    "print('slice2 is', slice2)"
   ]
  },
  {
   "cell_type": "code",
   "execution_count": null,
   "metadata": {},
   "outputs": [],
   "source": [
    "for number in energy_kcal:\n",
    "    kJ = number*4.184\n",
    "    print(kJ)"
   ]
  },
  {
   "cell_type": "code",
   "execution_count": null,
   "metadata": {},
   "outputs": [],
   "source": [
    "# We can record these values in a new list using `append`. \n",
    "\n",
    "# We can only append to existing lists, so we make an empty one.\n",
    "energy_kJ = []\n",
    "\n",
    "for number in energy_kcal:\n",
    "    kJ = number*4.184\n",
    "    energy_kJ.append(kJ)\n",
    "\n",
    "print(energy_kJ)"
   ]
  },
  {
   "cell_type": "code",
   "execution_count": null,
   "metadata": {},
   "outputs": [],
   "source": [
    "# We can use `if` statements to make choices in our code.\n",
    "\n",
    "# What if we wanted to find all the negative numbers?\n",
    "negative_energy_kJ = []\n",
    "\n",
    "for number in energy_kJ:\n",
    "    if number<0:\n",
    "        negative_energy_kJ.append(number)\n",
    "\n",
    "print(negative_energy_kJ)"
   ]
  },
  {
   "cell_type": "code",
   "execution_count": null,
   "metadata": {},
   "outputs": [],
   "source": [
    "# You can also use `and`, `or` to check more than one condition.\n",
    "negative_numbers = []\n",
    "for number in energy_kJ:\n",
    "    if number<0 or number==0:\n",
    "        negative_numbers.append(number)\n",
    "\n",
    "print(negative_numbers)"
   ]
  },
  {
   "cell_type": "markdown",
   "metadata": {},
   "source": [
    "## File Parsing\n",
    "\n",
    "This lesson covers file parsing"
   ]
  },
  {
   "cell_type": "code",
   "execution_count": null,
   "metadata": {},
   "outputs": [],
   "source": [
    "ls data"
   ]
  },
  {
   "cell_type": "code",
   "execution_count": null,
   "metadata": {},
   "outputs": [],
   "source": [
    "pwd"
   ]
  },
  {
   "cell_type": "code",
   "execution_count": null,
   "metadata": {},
   "outputs": [],
   "source": [
    "import os\n",
    "\n",
    "ethanol_file = os.path.join('data', 'outfiles', 'ethanol.out')\n",
    "print(ethanol_file)"
   ]
  },
  {
   "cell_type": "code",
   "execution_count": null,
   "metadata": {},
   "outputs": [],
   "source": [
    "# Open a file for reading\n",
    "outfile = open(ethanol_file, 'r')\n",
    "\n",
    "# Read the file\n",
    "data = outfile.readlines()\n",
    "\n",
    "# Close the file\n",
    "outfile.close()"
   ]
  },
  {
   "cell_type": "code",
   "execution_count": null,
   "metadata": {},
   "outputs": [],
   "source": [
    "# The readlines function puts the file into a list where each element is a line\n",
    "print(type(data))"
   ]
  },
  {
   "cell_type": "code",
   "execution_count": null,
   "metadata": {},
   "outputs": [],
   "source": [
    "for line in data:\n",
    "    print(line)"
   ]
  },
  {
   "cell_type": "code",
   "execution_count": null,
   "metadata": {},
   "outputs": [],
   "source": [
    "for line in data:\n",
    "    if 'Final Energy' in line:\n",
    "        energy_line = line\n",
    "        print(energy_line)"
   ]
  },
  {
   "cell_type": "code",
   "execution_count": null,
   "metadata": {},
   "outputs": [],
   "source": [
    "# We can use the `split` function to split a line based on a delimiter.\n",
    "\n",
    "# It will split on whitespace by default.\n",
    "energy_line.split()"
   ]
  },
  {
   "cell_type": "code",
   "execution_count": null,
   "metadata": {},
   "outputs": [],
   "source": [
    "# We can specify other delimiters, like a colon.\n",
    "energy_line.split(':')"
   ]
  },
  {
   "cell_type": "code",
   "execution_count": null,
   "metadata": {},
   "outputs": [],
   "source": [
    "words = energy_line.split()\n",
    "print(words)"
   ]
  },
  {
   "cell_type": "code",
   "execution_count": null,
   "metadata": {},
   "outputs": [],
   "source": [
    "energy = words[3]\n",
    "print(energy)"
   ]
  },
  {
   "cell_type": "code",
   "execution_count": null,
   "metadata": {},
   "outputs": [],
   "source": [
    "# However, this  is a string.\n",
    "energy + 50"
   ]
  },
  {
   "cell_type": "code",
   "execution_count": null,
   "metadata": {},
   "outputs": [],
   "source": [
    "# We can change it to a number by casting it to float\n",
    "energy = float(energy)"
   ]
  },
  {
   "cell_type": "code",
   "execution_count": null,
   "metadata": {},
   "outputs": [],
   "source": [
    "# We can use enumerate with a for loop to get a counter.\n",
    "for linenum, line in enumerate(words):\n",
    "    print(linenum, line)"
   ]
  },
  {
   "cell_type": "code",
   "execution_count": null,
   "metadata": {},
   "outputs": [],
   "source": [
    "# We can use this to find the line number of the Center of mass in the file.\n",
    "for linenum, line in enumerate(data):\n",
    "    if 'Center' in line:\n",
    "        print(linenum)\n",
    "        print(line)"
   ]
  },
  {
   "cell_type": "code",
   "execution_count": null,
   "metadata": {},
   "outputs": [],
   "source": []
  }
 ],
 "metadata": {
  "kernelspec": {
   "display_name": "Python 3",
   "language": "python",
   "name": "python3"
  },
  "language_info": {
   "codemirror_mode": {
    "name": "ipython",
    "version": 3
   },
   "file_extension": ".py",
   "mimetype": "text/x-python",
   "name": "python",
   "nbconvert_exporter": "python",
   "pygments_lexer": "ipython3",
   "version": "3.7.1"
  }
 },
 "nbformat": 4,
 "nbformat_minor": 2
}
